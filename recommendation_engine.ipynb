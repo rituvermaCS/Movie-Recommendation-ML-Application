{
  "nbformat": 4,
  "nbformat_minor": 0,
  "metadata": {
    "colab": {
      "name": "recommendation_engine.ipynb",
      "provenance": [],
      "collapsed_sections": []
    },
    "kernelspec": {
      "name": "python3",
      "display_name": "Python 3"
    },
    "language_info": {
      "name": "python"
    }
  },
  "cells": [
    {
      "cell_type": "markdown",
      "metadata": {
        "id": "to4flJmSFVJs"
      },
      "source": [
        "\n",
        "Movie Recommendation System"
      ]
    },
    {
      "cell_type": "markdown",
      "metadata": {
        "id": "tHJuMs2GFg2I"
      },
      "source": [
        "Import ML Libraries"
      ]
    },
    {
      "cell_type": "code",
      "metadata": {
        "id": "hBjAJZ49FVo_"
      },
      "source": [
        "import pandas as pd\n",
        "import numpy as np\n",
        "from sklearn.metrics.pairwise import cosine_similarity \n",
        "from sklearn.feature_extraction.text import CountVectorizer"
      ],
      "execution_count": null,
      "outputs": []
    },
    {
      "cell_type": "markdown",
      "metadata": {
        "id": "oByO1UsvGR9-"
      },
      "source": [
        "Load the Data "
      ]
    },
    {
      "cell_type": "code",
      "metadata": {
        "colab": {
          "resources": {
            "http://localhost:8080/nbextensions/google.colab/files.js": {
              "data": "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",
              "ok": true,
              "headers": [
                [
                  "content-type",
                  "application/javascript"
                ]
              ],
              "status": 200,
              "status_text": "OK"
            }
          },
          "base_uri": "https://localhost:8080/",
          "height": 81
        },
        "id": "qtVZLmL_Mflh",
        "outputId": "ffdf054f-1cdb-44fa-8dbe-acdb55c2aa70"
      },
      "source": [
        "from google.colab import files\n",
        "uploaded = files.upload()"
      ],
      "execution_count": null,
      "outputs": [
        {
          "output_type": "display_data",
          "data": {
            "text/html": [
              "\n",
              "     <input type=\"file\" id=\"files-c8d7d3ac-46b3-486a-9cec-ac13dfe525e1\" name=\"files[]\" multiple disabled\n",
              "        style=\"border:none\" />\n",
              "     <output id=\"result-c8d7d3ac-46b3-486a-9cec-ac13dfe525e1\">\n",
              "      Upload widget is only available when the cell has been executed in the\n",
              "      current browser session. Please rerun this cell to enable.\n",
              "      </output>\n",
              "      <script src=\"/nbextensions/google.colab/files.js\"></script> "
            ],
            "text/plain": [
              "<IPython.core.display.HTML object>"
            ]
          },
          "metadata": {
            "tags": []
          }
        },
        {
          "output_type": "stream",
          "text": [
            "Saving movies_dataset.csv to movies_dataset.csv\n"
          ],
          "name": "stdout"
        }
      ]
    },
    {
      "cell_type": "markdown",
      "metadata": {
        "id": "4xTwQKA_PXPp"
      },
      "source": [
        "Store all Data"
      ]
    },
    {
      "cell_type": "code",
      "metadata": {
        "colab": {
          "base_uri": "https://localhost:8080/",
          "height": 476
        },
        "id": "u30PVqYvPcKA",
        "outputId": "63a1e069-3a56-4afa-a37e-1444116db889"
      },
      "source": [
        "df = pd.read_csv('movies_dataset.csv')\n",
        "df.head(3)"
      ],
      "execution_count": null,
      "outputs": [
        {
          "output_type": "execute_result",
          "data": {
            "text/html": [
              "<div>\n",
              "<style scoped>\n",
              "    .dataframe tbody tr th:only-of-type {\n",
              "        vertical-align: middle;\n",
              "    }\n",
              "\n",
              "    .dataframe tbody tr th {\n",
              "        vertical-align: top;\n",
              "    }\n",
              "\n",
              "    .dataframe thead th {\n",
              "        text-align: right;\n",
              "    }\n",
              "</style>\n",
              "<table border=\"1\" class=\"dataframe\">\n",
              "  <thead>\n",
              "    <tr style=\"text-align: right;\">\n",
              "      <th></th>\n",
              "      <th>budget</th>\n",
              "      <th>genres</th>\n",
              "      <th>homepage</th>\n",
              "      <th>id</th>\n",
              "      <th>keywords</th>\n",
              "      <th>original_language</th>\n",
              "      <th>original_title</th>\n",
              "      <th>overview</th>\n",
              "      <th>popularity</th>\n",
              "      <th>production_companies</th>\n",
              "      <th>production_countries</th>\n",
              "      <th>release_date</th>\n",
              "      <th>revenue</th>\n",
              "      <th>runtime</th>\n",
              "      <th>spoken_languages</th>\n",
              "      <th>status</th>\n",
              "      <th>tagline</th>\n",
              "      <th>title</th>\n",
              "      <th>vote_average</th>\n",
              "      <th>vote_count</th>\n",
              "      <th>Unnamed: 20</th>\n",
              "    </tr>\n",
              "  </thead>\n",
              "  <tbody>\n",
              "    <tr>\n",
              "      <th>0</th>\n",
              "      <td>237000000</td>\n",
              "      <td>[{\"id\": 28, \"name\": \"Action\"}, {\"id\": 12, \"nam...</td>\n",
              "      <td>http://www.avatarmovie.com/</td>\n",
              "      <td>0</td>\n",
              "      <td>[{\"id\": 1463, \"name\": \"culture clash\"}, {\"id\":...</td>\n",
              "      <td>en</td>\n",
              "      <td>Avatar</td>\n",
              "      <td>In the 22nd century, a paraplegic Marine is di...</td>\n",
              "      <td>150.437577</td>\n",
              "      <td>[{\"name\": \"Ingenious Film Partners\", \"id\": 289...</td>\n",
              "      <td>[{\"iso_3166_1\": \"US\", \"name\": \"United States o...</td>\n",
              "      <td>2009-12-10</td>\n",
              "      <td>2787965087</td>\n",
              "      <td>162</td>\n",
              "      <td>[{\"iso_639_1\": \"en\", \"name\": \"English\"}, {\"iso...</td>\n",
              "      <td>Released</td>\n",
              "      <td>Enter the World of Pandora.</td>\n",
              "      <td>Avatar</td>\n",
              "      <td>7.2</td>\n",
              "      <td>11800.0</td>\n",
              "      <td>NaN</td>\n",
              "    </tr>\n",
              "    <tr>\n",
              "      <th>1</th>\n",
              "      <td>300000000</td>\n",
              "      <td>[{\"id\": 12, \"name\": \"Adventure\"}, {\"id\": 14, \"...</td>\n",
              "      <td>http://disney.go.com/disneypictures/pirates/</td>\n",
              "      <td>1</td>\n",
              "      <td>[{\"id\": 270, \"name\": \"ocean\"}, {\"id\": 726, \"na...</td>\n",
              "      <td>en</td>\n",
              "      <td>Pirates of the Caribbean: At World's End</td>\n",
              "      <td>Captain Barbossa, long believed to be dead, ha...</td>\n",
              "      <td>139.082615</td>\n",
              "      <td>[{\"name\": \"Walt Disney Pictures\", \"id\": 2}, {\"...</td>\n",
              "      <td>[{\"iso_3166_1\": \"US\", \"name\": \"United States o...</td>\n",
              "      <td>2007-05-19</td>\n",
              "      <td>961000000</td>\n",
              "      <td>169</td>\n",
              "      <td>[{\"iso_639_1\": \"en\", \"name\": \"English\"}]</td>\n",
              "      <td>Released</td>\n",
              "      <td>At the end of the world, the adventure begins.</td>\n",
              "      <td>Pirates of the Caribbean: At World's End</td>\n",
              "      <td>6.9</td>\n",
              "      <td>4500.0</td>\n",
              "      <td>NaN</td>\n",
              "    </tr>\n",
              "    <tr>\n",
              "      <th>2</th>\n",
              "      <td>245000000</td>\n",
              "      <td>[{\"id\": 28, \"name\": \"Action\"}, {\"id\": 12, \"nam...</td>\n",
              "      <td>http://www.sonypictures.com/movies/spectre/</td>\n",
              "      <td>2</td>\n",
              "      <td>[{\"id\": 470, \"name\": \"spy\"}, {\"id\": 818, \"name...</td>\n",
              "      <td>en</td>\n",
              "      <td>Spectre</td>\n",
              "      <td>A cryptic message from Bond’s past sends him o...</td>\n",
              "      <td>107.376788</td>\n",
              "      <td>[{\"name\": \"Columbia Pictures\", \"id\": 5}, {\"nam...</td>\n",
              "      <td>[{\"iso_3166_1\": \"GB\", \"name\": \"United Kingdom\"...</td>\n",
              "      <td>2015-10-26</td>\n",
              "      <td>880674609</td>\n",
              "      <td>148</td>\n",
              "      <td>[{\"iso_639_1\": \"fr\", \"name\": \"Fran\\u00e7ais\"},...</td>\n",
              "      <td>Released</td>\n",
              "      <td>A Plan No One Escapes</td>\n",
              "      <td>Spectre</td>\n",
              "      <td>6.3</td>\n",
              "      <td>4466.0</td>\n",
              "      <td>NaN</td>\n",
              "    </tr>\n",
              "  </tbody>\n",
              "</table>\n",
              "</div>"
            ],
            "text/plain": [
              "      budget  ... Unnamed: 20\n",
              "0  237000000  ...         NaN\n",
              "1  300000000  ...         NaN\n",
              "2  245000000  ...         NaN\n",
              "\n",
              "[3 rows x 21 columns]"
            ]
          },
          "metadata": {
            "tags": []
          },
          "execution_count": 78
        }
      ]
    },
    {
      "cell_type": "markdown",
      "metadata": {
        "id": "QT_ot9UXQhQt"
      },
      "source": [
        "Get Count of the number of rows(Movies) in the data set and the number of columns"
      ]
    },
    {
      "cell_type": "code",
      "metadata": {
        "colab": {
          "base_uri": "https://localhost:8080/"
        },
        "id": "o5M68mJvQfGI",
        "outputId": "6256abf8-47a7-4bbf-a89a-5fe866a86eff"
      },
      "source": [
        "df.shape"
      ],
      "execution_count": null,
      "outputs": [
        {
          "output_type": "execute_result",
          "data": {
            "text/plain": [
              "(504, 21)"
            ]
          },
          "metadata": {
            "tags": []
          },
          "execution_count": 79
        }
      ]
    },
    {
      "cell_type": "markdown",
      "metadata": {
        "id": "HgYn-CNrRGcf"
      },
      "source": [
        "Created a list of important columns(head) for the recommendation engine which is must important to define separetely."
      ]
    },
    {
      "cell_type": "code",
      "metadata": {
        "colab": {
          "base_uri": "https://localhost:8080/",
          "height": 206
        },
        "id": "biBdZEhbRa0i",
        "outputId": "4740c912-96cd-4474-9fa0-8e67882ff8c6"
      },
      "source": [
        "columns = ['overview','genres','original_title']\n",
        "df[columns].head(5)"
      ],
      "execution_count": null,
      "outputs": [
        {
          "output_type": "execute_result",
          "data": {
            "text/html": [
              "<div>\n",
              "<style scoped>\n",
              "    .dataframe tbody tr th:only-of-type {\n",
              "        vertical-align: middle;\n",
              "    }\n",
              "\n",
              "    .dataframe tbody tr th {\n",
              "        vertical-align: top;\n",
              "    }\n",
              "\n",
              "    .dataframe thead th {\n",
              "        text-align: right;\n",
              "    }\n",
              "</style>\n",
              "<table border=\"1\" class=\"dataframe\">\n",
              "  <thead>\n",
              "    <tr style=\"text-align: right;\">\n",
              "      <th></th>\n",
              "      <th>overview</th>\n",
              "      <th>genres</th>\n",
              "      <th>original_title</th>\n",
              "    </tr>\n",
              "  </thead>\n",
              "  <tbody>\n",
              "    <tr>\n",
              "      <th>0</th>\n",
              "      <td>In the 22nd century, a paraplegic Marine is di...</td>\n",
              "      <td>[{\"id\": 28, \"name\": \"Action\"}, {\"id\": 12, \"nam...</td>\n",
              "      <td>Avatar</td>\n",
              "    </tr>\n",
              "    <tr>\n",
              "      <th>1</th>\n",
              "      <td>Captain Barbossa, long believed to be dead, ha...</td>\n",
              "      <td>[{\"id\": 12, \"name\": \"Adventure\"}, {\"id\": 14, \"...</td>\n",
              "      <td>Pirates of the Caribbean: At World's End</td>\n",
              "    </tr>\n",
              "    <tr>\n",
              "      <th>2</th>\n",
              "      <td>A cryptic message from Bond’s past sends him o...</td>\n",
              "      <td>[{\"id\": 28, \"name\": \"Action\"}, {\"id\": 12, \"nam...</td>\n",
              "      <td>Spectre</td>\n",
              "    </tr>\n",
              "    <tr>\n",
              "      <th>3</th>\n",
              "      <td>Following the death of District Attorney Harve...</td>\n",
              "      <td>[{\"id\": 28, \"name\": \"Action\"}, {\"id\": 80, \"nam...</td>\n",
              "      <td>The Dark Knight Rises</td>\n",
              "    </tr>\n",
              "    <tr>\n",
              "      <th>4</th>\n",
              "      <td>John Carter is a war-weary, former military ca...</td>\n",
              "      <td>[{\"id\": 28, \"name\": \"Action\"}, {\"id\": 12, \"nam...</td>\n",
              "      <td>John Carter</td>\n",
              "    </tr>\n",
              "  </tbody>\n",
              "</table>\n",
              "</div>"
            ],
            "text/plain": [
              "                                            overview  ...                            original_title\n",
              "0  In the 22nd century, a paraplegic Marine is di...  ...                                    Avatar\n",
              "1  Captain Barbossa, long believed to be dead, ha...  ...  Pirates of the Caribbean: At World's End\n",
              "2  A cryptic message from Bond’s past sends him o...  ...                                   Spectre\n",
              "3  Following the death of District Attorney Harve...  ...                     The Dark Knight Rises\n",
              "4  John Carter is a war-weary, former military ca...  ...                               John Carter\n",
              "\n",
              "[5 rows x 3 columns]"
            ]
          },
          "metadata": {
            "tags": []
          },
          "execution_count": 62
        }
      ]
    },
    {
      "cell_type": "markdown",
      "metadata": {
        "id": "Gew_N2xOSmsf"
      },
      "source": [
        "Check for missing values in the columns(heads)"
      ]
    },
    {
      "cell_type": "code",
      "metadata": {
        "colab": {
          "base_uri": "https://localhost:8080/"
        },
        "id": "69-8qzG9Swa4",
        "outputId": "5b665379-1a9d-4c0e-c769-d264f7dcd712"
      },
      "source": [
        "df[columns].isnull().values.any()"
      ],
      "execution_count": null,
      "outputs": [
        {
          "output_type": "execute_result",
          "data": {
            "text/plain": [
              "False"
            ]
          },
          "metadata": {
            "tags": []
          },
          "execution_count": 82
        }
      ]
    },
    {
      "cell_type": "markdown",
      "metadata": {
        "id": "DKPKw_4QTDNC"
      },
      "source": [
        "Create a function to combine the values of the important columns into a single string"
      ]
    },
    {
      "cell_type": "code",
      "metadata": {
        "id": "7MIEt3PuTbdU"
      },
      "source": [
        "def get_important_features(data):\n",
        "  important_features =  []\n",
        "  for i in range(0, data.shape[0]):\n",
        "    important_features.append(str(data['overview'][i])+' '+str(data['genres'][i])+' '+str(data['original_title'][i])) \n",
        "\n",
        "  return important_features  "
      ],
      "execution_count": null,
      "outputs": []
    },
    {
      "cell_type": "markdown",
      "metadata": {
        "id": "O4P0Ull6VBuX"
      },
      "source": [
        "Create a Column to hold the combined strings"
      ]
    },
    {
      "cell_type": "code",
      "metadata": {
        "colab": {
          "base_uri": "https://localhost:8080/",
          "height": 476
        },
        "id": "uJW_7RMtVfdt",
        "outputId": "fd4da0fa-7ed9-4cc2-cdd4-d60d1639c4fd"
      },
      "source": [
        "df['important_features'] = get_important_features(df)\n",
        "df.head(3)"
      ],
      "execution_count": null,
      "outputs": [
        {
          "output_type": "execute_result",
          "data": {
            "text/html": [
              "<div>\n",
              "<style scoped>\n",
              "    .dataframe tbody tr th:only-of-type {\n",
              "        vertical-align: middle;\n",
              "    }\n",
              "\n",
              "    .dataframe tbody tr th {\n",
              "        vertical-align: top;\n",
              "    }\n",
              "\n",
              "    .dataframe thead th {\n",
              "        text-align: right;\n",
              "    }\n",
              "</style>\n",
              "<table border=\"1\" class=\"dataframe\">\n",
              "  <thead>\n",
              "    <tr style=\"text-align: right;\">\n",
              "      <th></th>\n",
              "      <th>budget</th>\n",
              "      <th>genres</th>\n",
              "      <th>homepage</th>\n",
              "      <th>id</th>\n",
              "      <th>keywords</th>\n",
              "      <th>original_language</th>\n",
              "      <th>original_title</th>\n",
              "      <th>overview</th>\n",
              "      <th>popularity</th>\n",
              "      <th>production_companies</th>\n",
              "      <th>production_countries</th>\n",
              "      <th>release_date</th>\n",
              "      <th>revenue</th>\n",
              "      <th>runtime</th>\n",
              "      <th>spoken_languages</th>\n",
              "      <th>status</th>\n",
              "      <th>tagline</th>\n",
              "      <th>title</th>\n",
              "      <th>vote_average</th>\n",
              "      <th>vote_count</th>\n",
              "      <th>Unnamed: 20</th>\n",
              "      <th>important_features</th>\n",
              "    </tr>\n",
              "  </thead>\n",
              "  <tbody>\n",
              "    <tr>\n",
              "      <th>0</th>\n",
              "      <td>237000000</td>\n",
              "      <td>[{\"id\": 28, \"name\": \"Action\"}, {\"id\": 12, \"nam...</td>\n",
              "      <td>http://www.avatarmovie.com/</td>\n",
              "      <td>0</td>\n",
              "      <td>[{\"id\": 1463, \"name\": \"culture clash\"}, {\"id\":...</td>\n",
              "      <td>en</td>\n",
              "      <td>Avatar</td>\n",
              "      <td>In the 22nd century, a paraplegic Marine is di...</td>\n",
              "      <td>150.437577</td>\n",
              "      <td>[{\"name\": \"Ingenious Film Partners\", \"id\": 289...</td>\n",
              "      <td>[{\"iso_3166_1\": \"US\", \"name\": \"United States o...</td>\n",
              "      <td>2009-12-10</td>\n",
              "      <td>2787965087</td>\n",
              "      <td>162</td>\n",
              "      <td>[{\"iso_639_1\": \"en\", \"name\": \"English\"}, {\"iso...</td>\n",
              "      <td>Released</td>\n",
              "      <td>Enter the World of Pandora.</td>\n",
              "      <td>Avatar</td>\n",
              "      <td>7.2</td>\n",
              "      <td>11800.0</td>\n",
              "      <td>NaN</td>\n",
              "      <td>In the 22nd century, a paraplegic Marine is di...</td>\n",
              "    </tr>\n",
              "    <tr>\n",
              "      <th>1</th>\n",
              "      <td>300000000</td>\n",
              "      <td>[{\"id\": 12, \"name\": \"Adventure\"}, {\"id\": 14, \"...</td>\n",
              "      <td>http://disney.go.com/disneypictures/pirates/</td>\n",
              "      <td>1</td>\n",
              "      <td>[{\"id\": 270, \"name\": \"ocean\"}, {\"id\": 726, \"na...</td>\n",
              "      <td>en</td>\n",
              "      <td>Pirates of the Caribbean: At World's End</td>\n",
              "      <td>Captain Barbossa, long believed to be dead, ha...</td>\n",
              "      <td>139.082615</td>\n",
              "      <td>[{\"name\": \"Walt Disney Pictures\", \"id\": 2}, {\"...</td>\n",
              "      <td>[{\"iso_3166_1\": \"US\", \"name\": \"United States o...</td>\n",
              "      <td>2007-05-19</td>\n",
              "      <td>961000000</td>\n",
              "      <td>169</td>\n",
              "      <td>[{\"iso_639_1\": \"en\", \"name\": \"English\"}]</td>\n",
              "      <td>Released</td>\n",
              "      <td>At the end of the world, the adventure begins.</td>\n",
              "      <td>Pirates of the Caribbean: At World's End</td>\n",
              "      <td>6.9</td>\n",
              "      <td>4500.0</td>\n",
              "      <td>NaN</td>\n",
              "      <td>Captain Barbossa, long believed to be dead, ha...</td>\n",
              "    </tr>\n",
              "    <tr>\n",
              "      <th>2</th>\n",
              "      <td>245000000</td>\n",
              "      <td>[{\"id\": 28, \"name\": \"Action\"}, {\"id\": 12, \"nam...</td>\n",
              "      <td>http://www.sonypictures.com/movies/spectre/</td>\n",
              "      <td>2</td>\n",
              "      <td>[{\"id\": 470, \"name\": \"spy\"}, {\"id\": 818, \"name...</td>\n",
              "      <td>en</td>\n",
              "      <td>Spectre</td>\n",
              "      <td>A cryptic message from Bond’s past sends him o...</td>\n",
              "      <td>107.376788</td>\n",
              "      <td>[{\"name\": \"Columbia Pictures\", \"id\": 5}, {\"nam...</td>\n",
              "      <td>[{\"iso_3166_1\": \"GB\", \"name\": \"United Kingdom\"...</td>\n",
              "      <td>2015-10-26</td>\n",
              "      <td>880674609</td>\n",
              "      <td>148</td>\n",
              "      <td>[{\"iso_639_1\": \"fr\", \"name\": \"Fran\\u00e7ais\"},...</td>\n",
              "      <td>Released</td>\n",
              "      <td>A Plan No One Escapes</td>\n",
              "      <td>Spectre</td>\n",
              "      <td>6.3</td>\n",
              "      <td>4466.0</td>\n",
              "      <td>NaN</td>\n",
              "      <td>A cryptic message from Bond’s past sends him o...</td>\n",
              "    </tr>\n",
              "  </tbody>\n",
              "</table>\n",
              "</div>"
            ],
            "text/plain": [
              "      budget  ...                                 important_features\n",
              "0  237000000  ...  In the 22nd century, a paraplegic Marine is di...\n",
              "1  300000000  ...  Captain Barbossa, long believed to be dead, ha...\n",
              "2  245000000  ...  A cryptic message from Bond’s past sends him o...\n",
              "\n",
              "[3 rows x 22 columns]"
            ]
          },
          "metadata": {
            "tags": []
          },
          "execution_count": 84
        }
      ]
    },
    {
      "cell_type": "markdown",
      "metadata": {
        "id": "P5i3d0kLZWuQ"
      },
      "source": [
        "Convert the text to a matrix of token counts "
      ]
    },
    {
      "cell_type": "code",
      "metadata": {
        "id": "WBzbkvFSf9h_"
      },
      "source": [
        "cm = CountVectorizer().fit_transform(df['important_features'])"
      ],
      "execution_count": null,
      "outputs": []
    },
    {
      "cell_type": "markdown",
      "metadata": {
        "id": "QsmWFTFugSYa"
      },
      "source": [
        "Get the cosine similarity matrix from the count matrix"
      ]
    },
    {
      "cell_type": "code",
      "metadata": {
        "colab": {
          "base_uri": "https://localhost:8080/"
        },
        "id": "DRBZX7MegcBd",
        "outputId": "41a0fbb6-2f3c-45b2-9c06-f3f73f6c075b"
      },
      "source": [
        "cs = cosine_similarity(cm)\n",
        "print(cs)"
      ],
      "execution_count": null,
      "outputs": [
        {
          "output_type": "stream",
          "text": [
            "[[1.         0.57725089 0.51426536 ... 0.43084829 0.39840954 0.53012821]\n",
            " [0.57725089 1.         0.53441927 ... 0.47143793 0.45735108 0.54560238]\n",
            " [0.51426536 0.53441927 1.         ... 0.40815592 0.38686132 0.45891316]\n",
            " ...\n",
            " [0.43084829 0.47143793 0.40815592 ... 1.         0.50491862 0.45747997]\n",
            " [0.39840954 0.45735108 0.38686132 ... 0.50491862 1.         0.43971349]\n",
            " [0.53012821 0.54560238 0.45891316 ... 0.45747997 0.43971349 1.        ]]\n"
          ],
          "name": "stdout"
        }
      ]
    },
    {
      "cell_type": "markdown",
      "metadata": {
        "id": "KEcsUb9cglwT"
      },
      "source": [
        "Get the shape of the cosine similarity matrix"
      ]
    },
    {
      "cell_type": "code",
      "metadata": {
        "colab": {
          "base_uri": "https://localhost:8080/"
        },
        "id": "vbfI2eqTguSy",
        "outputId": "67b49093-76de-4d28-f076-1ebd22d92384"
      },
      "source": [
        "cs.shape"
      ],
      "execution_count": null,
      "outputs": [
        {
          "output_type": "execute_result",
          "data": {
            "text/plain": [
              "(504, 504)"
            ]
          },
          "metadata": {
            "tags": []
          },
          "execution_count": 87
        }
      ]
    },
    {
      "cell_type": "markdown",
      "metadata": {
        "id": "uKPierZ1gxEt"
      },
      "source": [
        "Get the title of the movie that the user likes and find movie id's"
      ]
    },
    {
      "cell_type": "code",
      "metadata": {
        "id": "I5bdzfNShBGC"
      },
      "source": [
        "i_title = 'Avatar'\n",
        "movie_id = df[df.original_title == i_title]['id'].values[0]"
      ],
      "execution_count": null,
      "outputs": []
    },
    {
      "cell_type": "markdown",
      "metadata": {
        "id": "mDpgJWmoh58s"
      },
      "source": [
        "Create a list of enumerations for the similarity score [(movie_id, similarity_score),(.........)]"
      ]
    },
    {
      "cell_type": "code",
      "metadata": {
        "id": "gZW5KCugifXg"
      },
      "source": [
        "scores = list(enumerate(cs[movie_id]))"
      ],
      "execution_count": null,
      "outputs": []
    },
    {
      "cell_type": "markdown",
      "metadata": {
        "id": "ZFsGxDb6rl04"
      },
      "source": [
        "Sort the list"
      ]
    },
    {
      "cell_type": "code",
      "metadata": {
        "colab": {
          "base_uri": "https://localhost:8080/"
        },
        "id": "dnPnXReyrp3N",
        "outputId": "c195090c-40e9-41fe-b8b7-e7ab871c25e4"
      },
      "source": [
        "sorted_scores = sorted(scores, key = lambda x:x[1], reverse = True)\n",
        "sorted_scores = sorted_scores[1:]\n",
        "print(sorted_scores)"
      ],
      "execution_count": null,
      "outputs": [
        {
          "output_type": "stream",
          "text": [
            "[(61, 0.7134437307504793), (322, 0.6837634587578276), (232, 0.6666834337261043), (33, 0.6454738786573266), (168, 0.6424675480244509), (72, 0.6384997577922866), (31, 0.6383106423916778), (122, 0.6348603145949657), (104, 0.6326266278117371), (267, 0.6297282423460627), (187, 0.6264306159840216), (490, 0.6252412661738194), (196, 0.6230559828490335), (198, 0.6225317562548817), (300, 0.6208806662893214), (452, 0.6208004980885296), (152, 0.6173419725817378), (305, 0.6153871128820448), (112, 0.6148170459575759), (200, 0.6146889990862595), (151, 0.6126374746329802), (46, 0.6124007462959206), (131, 0.6122670268929316), (370, 0.6112009239889423), (88, 0.6073032226993986), (275, 0.6071582289507228), (485, 0.6070850460322766), (495, 0.6068614929872402), (138, 0.6065414277162509), (167, 0.6065403172605964), (96, 0.6044944448335207), (68, 0.6038073644245601), (123, 0.6008449768853287), (243, 0.5990967368408634), (459, 0.5977387946809766), (483, 0.5976143046671969), (487, 0.5976143046671968), (410, 0.5938728009841279), (117, 0.5928701515604371), (294, 0.5921443410477893), (208, 0.5913009418850033), (70, 0.5903408372690013), (56, 0.589943324645678), (233, 0.589943324645678), (358, 0.588846871438385), (111, 0.5886137659055672), (278, 0.5886124756277652), (176, 0.5884898863364997), (271, 0.5879922114270474), (312, 0.5879747322073337), (100, 0.5860942701532694), (98, 0.5857142857142856), (466, 0.5857142857142856), (35, 0.5856984476794354), (40, 0.5856620185738529), (472, 0.5841930439546863), (172, 0.5838589032230906), (435, 0.5838589032230905), (234, 0.5837387392926014), (260, 0.583383351196948), (97, 0.5828478913767352), (166, 0.582755489374437), (55, 0.5825387936437473), (78, 0.5825153360586067), (403, 0.5820570476109865), (103, 0.5815779100004534), (238, 0.5788783930358112), (292, 0.5782370162971885), (215, 0.5782113438950807), (1, 0.5772508888172242), (90, 0.576638808328867), (87, 0.5763509791158677), (371, 0.576018432884783), (45, 0.5751599343539661), (121, 0.5737233764804747), (116, 0.5724907551566963), (179, 0.5720775535473555), (83, 0.5717477161456765), (332, 0.5711817120669812), (195, 0.5704791219417487), (314, 0.5694796188164548), (442, 0.5673665146135801), (263, 0.5662233651991269), (335, 0.566073811829836), (106, 0.5654645834709996), (453, 0.564907850114405), (184, 0.564392882523067), (205, 0.5638246125882256), (381, 0.5634649158290712), (254, 0.5628141580809005), (449, 0.5616384851649975), (108, 0.5616339933088468), (349, 0.5595637103925327), (134, 0.5590653920196748), (417, 0.5582027378076507), (178, 0.555846667023721), (10, 0.5555909634626168), (241, 0.555492059863531), (76, 0.5551145592695651), (390, 0.554865261009786), (12, 0.5540916385036405), (420, 0.5540455669886941), (405, 0.5533985905294664), (149, 0.5532598406891478), (356, 0.553205402453576), (16, 0.5525749771199427), (142, 0.5520524474738835), (269, 0.5518254055364692), (339, 0.5518254055364692), (28, 0.5513422713531332), (290, 0.5513422713531331), (365, 0.551010416847584), (94, 0.5507824838698259), (27, 0.5507288129495115), (14, 0.5489913165772115), (350, 0.5479820187028094), (148, 0.5479596155372586), (476, 0.54788554592047), (451, 0.5451081150953976), (95, 0.5448357652831955), (408, 0.5446192885782926), (257, 0.5444930331412238), (156, 0.5430673434040225), (291, 0.5421943680547069), (82, 0.5421047417431506), (54, 0.5417850102250727), (164, 0.5411196332756185), (376, 0.5411196332756185), (235, 0.5409627460747114), (362, 0.5408987230262505), (369, 0.5403595256756533), (245, 0.5402755358002264), (67, 0.5397007177391856), (39, 0.5387642118600323), (186, 0.5380528418150005), (333, 0.5378948988811054), (212, 0.5378528742004771), (359, 0.5366934573009388), (174, 0.5356147093602983), (41, 0.5348405573334053), (50, 0.5346252667281784), (73, 0.5345224838248488), (416, 0.5345224838248488), (203, 0.5339711453760927), (7, 0.5330696627140983), (26, 0.5325537018725448), (330, 0.5323971374999499), (433, 0.5312796481290517), (389, 0.5312127152597305), (130, 0.530810892956835), (163, 0.5303948353054367), (91, 0.5303948353054366), (503, 0.530128213870179), (309, 0.5299621842945464), (24, 0.5296408977028498), (237, 0.5291502622129182), (181, 0.5290720029117119), (202, 0.5280736583260769), (368, 0.5277986629117476), (157, 0.5270462766947298), (276, 0.5270462766947298), (457, 0.5265853310473055), (326, 0.5262348115842176), (441, 0.5262348115842176), (413, 0.5259400186578376), (4, 0.5259188494953397), (244, 0.5246313898711125), (216, 0.5244498251001891), (199, 0.5226990393278772), (334, 0.5226990393278771), (378, 0.5224292591605754), (348, 0.5218519639988647), (319, 0.5203133626154138), (461, 0.5201564866102995), (225, 0.5196910044992893), (81, 0.5195383931624605), (220, 0.5181852468657788), (246, 0.5180846576681184), (11, 0.5179323973782373), (425, 0.5176569810212164), (52, 0.5171396465594023), (228, 0.5167523265868931), (296, 0.5167050676973538), (473, 0.515687954032345), (109, 0.5150370451673713), (400, 0.5147645854147433), (2, 0.5142653638627284), (412, 0.5135525910130955), (315, 0.5128225940683707), (141, 0.5122408325718829), (402, 0.5118479306332763), (325, 0.5116541969061761), (306, 0.511654196906176), (221, 0.5113976743489957), (62, 0.5111012519999519), (180, 0.5111012519999519), (341, 0.5107998062338293), (360, 0.5104812758612465), (86, 0.5102225224107763), (455, 0.5096471914376255), (160, 0.5093425414800963), (165, 0.5089495550599169), (249, 0.5089495550599169), (236, 0.5085995176833685), (43, 0.5084072881337396), (342, 0.5080509023769586), (84, 0.5079806913669696), (467, 0.5074680379332372), (338, 0.50709255283711), (3, 0.505673642410705), (65, 0.5055918317219449), (144, 0.5050100284208429), (311, 0.504998562256063), (242, 0.504652079496744), (491, 0.5024234236097409), (421, 0.5022010377856075), (364, 0.5008341835441227), (126, 0.5003648304024271), (170, 0.4998228729943827), (136, 0.49950470517808887), (169, 0.4993838568207846), (37, 0.499190719728515), (222, 0.49899595237468836), (320, 0.4975527814650226), (30, 0.49685257703979097), (302, 0.4960541500218804), (270, 0.49459985280674745), (150, 0.49334653601469736), (295, 0.49311367272153783), (286, 0.49269387325930164), (210, 0.49263482989964485), (207, 0.4913538149119955), (468, 0.4913538149119954), (465, 0.4907668798175102), (494, 0.48970669422627194), (396, 0.48922129360861105), (5, 0.4886466107567734), (113, 0.4883741565338878), (147, 0.4871987657646901), (8, 0.48719876576469), (336, 0.4862987625796374), (363, 0.4861952656966503), (289, 0.4855815829335072), (66, 0.4852978659458423), (127, 0.4851193698337162), (240, 0.4849656045851726), (399, 0.48416483186574427), (268, 0.4841648318657442), (411, 0.4840764516831996), (259, 0.48349377841522817), (114, 0.4834818929746872), (217, 0.48304589153964794), (182, 0.48209227870406146), (154, 0.4820922787040614), (58, 0.48209227870406135), (404, 0.4818708815494672), (110, 0.48170303624333777), (71, 0.48144651257102367), (139, 0.48143712096661473), (372, 0.4813566875526184), (366, 0.48082497912489797), (279, 0.4800793585191832), (158, 0.4797930202513154), (119, 0.4796707554286016), (380, 0.4780914437337575), (129, 0.47809144373375745), (92, 0.4759915380034304), (191, 0.4757512855624099), (329, 0.47499514629169703), (36, 0.473903700774718), (345, 0.4734341999591517), (153, 0.4731213186035518), (406, 0.4725320518753684), (185, 0.4722961817595471), (189, 0.472272669815201), (308, 0.47168503525845773), (13, 0.4715864951351156), (324, 0.47154314879602544), (437, 0.4709698461750437), (283, 0.47065803652096727), (135, 0.4705619740571601), (298, 0.4705619740571601), (310, 0.470373281883971), (143, 0.4697302489492173), (419, 0.46937676533621), (15, 0.46901270566711034), (99, 0.46876772304644065), (475, 0.4681312053226375), (101, 0.4681136985632963), (256, 0.4673773191347205), (183, 0.465848093511103), (218, 0.46534004059768874), (454, 0.46483484010068404), (391, 0.4642228804867946), (424, 0.46383865673706937), (79, 0.46381682852195877), (480, 0.4638168285219587), (213, 0.4635525346505533), (351, 0.46304780023894127), (317, 0.4629100498862757), (102, 0.46200632898729443), (374, 0.46200632898729443), (277, 0.46106944597707333), (498, 0.4604435704551634), (288, 0.4601789933084223), (17, 0.45970331128245917), (474, 0.45930055972194034), (262, 0.4583636466936722), (354, 0.4571517264986332), (75, 0.4560983251262666), (29, 0.4548057896870294), (32, 0.45446721279351165), (346, 0.4543089130604205), (456, 0.4543089130604205), (48, 0.4540724811985617), (446, 0.4537843165207519), (432, 0.4531988763852865), (93, 0.45263456427949444), (107, 0.4512144390930801), (347, 0.45080573027814647), (177, 0.4508057302781464), (383, 0.4508057302781464), (443, 0.4504179373787859), (352, 0.4494895063586363), (23, 0.4474797148900665), (265, 0.4466779032388099), (219, 0.44618195953425194), (22, 0.4459412925079223), (439, 0.4447495899966607), (85, 0.4446757798274161), (124, 0.444446248192588), (323, 0.44410825578584195), (387, 0.44389676161847524), (252, 0.443613573862942), (38, 0.4427268892800284), (42, 0.4422345854537257), (239, 0.4413602728270391), (316, 0.44062624308794274), (418, 0.4391550328268399), (297, 0.43852900965351455), (386, 0.43826570791278313), (497, 0.43825049008927763), (299, 0.4374015001491542), (431, 0.4370415209168244), (173, 0.4370415209168243), (478, 0.4370415209168243), (59, 0.4365779188181965), (51, 0.435467687691534), (414, 0.43465075957466565), (204, 0.4346507595746656), (488, 0.4340311573215715), (140, 0.43244998209386837), (489, 0.4324499820938683), (266, 0.43166584730171564), (460, 0.43094580368566726), (175, 0.43087949923051905), (501, 0.43084829360325927), (159, 0.43045803238766356), (21, 0.4303534380397734), (226, 0.43031591910488437), (47, 0.43017218937217727), (80, 0.4297563888366622), (450, 0.4293387907410918), (458, 0.42806014294163386), (407, 0.42797182906255027), (9, 0.42726306821018867), (440, 0.42521003213538056), (444, 0.42353144155726824), (63, 0.4223141086314858), (486, 0.42133242030890683), (197, 0.4204799574595403), (206, 0.4204465144487627), (426, 0.41967278279439957), (280, 0.4193139346887674), (438, 0.4180901313657444), (223, 0.4178724050936787), (18, 0.41771975763466995), (464, 0.41731242476584085), (377, 0.41620304974158967), (248, 0.41612518928823955), (209, 0.41576092031014994), (125, 0.41475753100312657), (19, 0.4130321841852577), (392, 0.41194292043554975), (211, 0.41189958311278135), (500, 0.4116898543262911), (429, 0.4113578633629154), (230, 0.4102638912242274), (118, 0.4100388617336997), (367, 0.40980057093238403), (74, 0.4083697748559178), (373, 0.40717253552297766), (229, 0.40300495411277903), (447, 0.40144827099604535), (496, 0.4008090596326261), (394, 0.4003803811985696), (331, 0.3998348131253117), (428, 0.3992236332928067), (301, 0.39840953644479793), (502, 0.3984095364447979), (481, 0.39834823795432905), (227, 0.39759616040263424), (484, 0.39717310945384937), (470, 0.39713838143550995), (34, 0.396412483586046), (384, 0.39597275801134096), (307, 0.3953189298238275), (258, 0.3944254410803498), (463, 0.39402546198187116), (115, 0.39397388174996295), (379, 0.3933609903857511), (415, 0.39271797163844363), (133, 0.3923530128589653), (385, 0.3919831548048891), (344, 0.39169459727477296), (479, 0.39019948628585405), (287, 0.3894620293031242), (77, 0.3892049838844814), (247, 0.3890137775559232), (188, 0.3887709571751176), (469, 0.38816187713007433), (434, 0.3879724836681381), (353, 0.3873758175333146), (145, 0.3858165981905821), (261, 0.38571428571428573), (293, 0.38544964466377263), (382, 0.3849406080276325), (25, 0.38404300506790834), (224, 0.3836644167162431), (89, 0.383664416716243), (201, 0.3827736660776296), (274, 0.3812737935804311), (105, 0.38122128787578263), (120, 0.3801463904806788), (303, 0.37893237337253677), (375, 0.3787381984310794), (471, 0.37786230664082227), (128, 0.37588200827444107), (281, 0.37567144189845536), (20, 0.37560199184033183), (337, 0.37437206112962035), (190, 0.37384238051939905), (69, 0.37282185960072006), (53, 0.37219368415938836), (193, 0.37152389764745586), (273, 0.3703280399090206), (194, 0.3683941988065036), (462, 0.36532592984820444), (282, 0.3608026765817729), (422, 0.35919055825961954), (477, 0.35919055825961954), (253, 0.3546188477266512), (231, 0.3535839999514189), (343, 0.3532777870248776), (285, 0.35193343526460064), (393, 0.35082320772281167), (57, 0.3491486243775877), (355, 0.34661629670697414), (361, 0.3452882649188248), (328, 0.34317639027649544), (340, 0.339310446269148), (318, 0.3381852398827004), (482, 0.3380617018914066), (423, 0.33731294858699107), (64, 0.33599402682595086), (395, 0.3357382262355197), (321, 0.33290015143059165), (49, 0.33200794703733155), (255, 0.3310952433218815), (445, 0.3222120388915419), (6, 0.3220470240730159), (137, 0.3194382824999699), (162, 0.31693284552319373), (284, 0.3165370352995723), (272, 0.3112658781274409), (214, 0.3100230406184123), (161, 0.30988989340045614), (492, 0.3098485830098972), (401, 0.307760040715893), (427, 0.30578831486257535), (409, 0.3022472224167604), (304, 0.3009302347906905), (327, 0.29994330530044816), (430, 0.29584219438460796), (251, 0.2958039891549808), (397, 0.2943068829527836), (132, 0.2934500925381201), (388, 0.29139615216400366), (44, 0.28690229202651557), (171, 0.28592276022995833), (250, 0.28177225625601326), (264, 0.27624731005491493), (146, 0.2713553920627597), (60, 0.2684552668084303), (493, 0.2572947879431987), (313, 0.25555062599997597), (398, 0.2533879584034814), (357, 0.24922239313961342), (448, 0.24780486166932025), (436, 0.2393172105652397), (155, 0.23115423855882586), (192, 0.23022178522758166), (499, 0.23022178522758166)]\n"
          ],
          "name": "stdout"
        }
      ]
    },
    {
      "cell_type": "markdown",
      "metadata": {
        "id": "mWE9gXSksLbM"
      },
      "source": [
        "Create a loop to print the first 7 similar movies"
      ]
    },
    {
      "cell_type": "code",
      "metadata": {
        "colab": {
          "base_uri": "https://localhost:8080/"
        },
        "id": "twk86kDgsd18",
        "outputId": "4c83cbbc-be98-4e4b-f608-69929b908afc"
      },
      "source": [
        "j = 0\n",
        "print('The Most recommended movie to', i_title, 'are:\\n')\n",
        "for item in sorted_scores:\n",
        "  movie_title = df[df.id == item[0]]['original_title'].values[0]\n",
        "  print(j+1, movie_title)\n",
        "  j = j+1\n",
        "  if j>6:\n",
        "    break"
      ],
      "execution_count": null,
      "outputs": [
        {
          "output_type": "stream",
          "text": [
            "The Most recommended movie to Avatar are:\n",
            "\n",
            "1 Jupiter Ascending\n",
            "2 The Adventures of Pluto Nash\n",
            "3 Monsters, Inc.\n",
            "4 X-Men: The Last Stand\n",
            "5 Final Fantasy: The Spirits Within\n",
            "6 Suicide Squad\n",
            "7 Iron Man 3\n"
          ],
          "name": "stdout"
        }
      ]
    }
  ]
}